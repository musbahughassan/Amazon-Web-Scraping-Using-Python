{
 "cells": [
  {
   "cell_type": "markdown",
   "id": "cd60732c",
   "metadata": {},
   "source": [
    "# Importing Libraries"
   ]
  },
  {
   "cell_type": "code",
   "execution_count": 1,
   "id": "97b9499e",
   "metadata": {},
   "outputs": [],
   "source": [
    "from bs4 import BeautifulSoup\n",
    "import requests\n",
    "import time\n",
    "import datetime\n",
    "import csv \n",
    "import pandas as pd\n",
    "\n",
    "import smtplib"
   ]
  },
  {
   "cell_type": "markdown",
   "id": "129ca518",
   "metadata": {},
   "source": [
    "# Connecting To The Website Amazon.com"
   ]
  },
  {
   "cell_type": "code",
   "execution_count": 2,
   "id": "a953fe0c",
   "metadata": {},
   "outputs": [],
   "source": [
    "URL = 'https://www.amazon.com/Funny-Data-Systems-Business-Analyst/dp/B07FNW9FGJ/ref=sr_1_3?dchild=1&keywords=data%2Banalyst%2Btshirt&qid=1626655184&sr=8-3&customId=B0752XJYNL&th=1'\n",
    "\n",
    "headers = {\"User-Agent\": \"Mozilla/5.0 (Windows NT 10.0; Win64; x64) AppleWebKit/537.36 (KHTML, like Gecko) Chrome/78.0.3904.108 Safari/537.36\", \"Accept-Encoding\":\"gzip, deflate\", \"Accept\":\"text/html,application/xhtml+xml,application/xml;q=0.9,*/*;q=0.8\", \"DNT\":\"1\",\"Connection\":\"close\", \"Upgrade-Insecure-Requests\":\"1\"}"
   ]
  },
  {
   "cell_type": "markdown",
   "id": "1966eb97",
   "metadata": {},
   "source": [
    "# Pull in Data"
   ]
  },
  {
   "cell_type": "code",
   "execution_count": 3,
   "id": "07a41f11",
   "metadata": {},
   "outputs": [],
   "source": [
    "page = requests.get(URL, headers=headers)\n",
    "soup1 = BeautifulSoup(page.content, \"html.parser\")\n",
    "soup2 = BeautifulSoup(soup1.prettify(), \"html.parser\")"
   ]
  },
  {
   "cell_type": "code",
   "execution_count": 4,
   "id": "d68114e7",
   "metadata": {},
   "outputs": [
    {
     "data": {
      "text/plain": [
       "'\\n                    Funny Got Data MIS Data Systems Business Analyst T-Shirt\\n                   '"
      ]
     },
     "execution_count": 4,
     "metadata": {},
     "output_type": "execute_result"
    }
   ],
   "source": [
    "title = soup2.find(id='productTitle').get_text()\n",
    "title"
   ]
  },
  {
   "cell_type": "code",
   "execution_count": 5,
   "id": "62d39cad",
   "metadata": {},
   "outputs": [
    {
     "data": {
      "text/plain": [
       "'\\n\\n\\n\\n                    $16.99\\n                   \\n\\n\\n\\n\\n\\n                      $\\n                     \\n\\n                      16\\n                      \\n                       .\\n                      \\n\\n\\n                      99\\n                     \\n\\n\\n\\n\\n\\n\\n\\n\\n\\n\\n\\n'"
      ]
     },
     "execution_count": 5,
     "metadata": {},
     "output_type": "execute_result"
    }
   ],
   "source": [
    "price = soup2.find(id='corePriceDisplay_desktop_feature_div').get_text()\n",
    "price"
   ]
  },
  {
   "cell_type": "markdown",
   "id": "823352ce",
   "metadata": {},
   "source": [
    "##### Clean up the data a little bit"
   ]
  },
  {
   "cell_type": "code",
   "execution_count": 6,
   "id": "b605d563",
   "metadata": {},
   "outputs": [],
   "source": [
    "price = price.strip()[:6]\n",
    "title = title.strip()"
   ]
  },
  {
   "cell_type": "code",
   "execution_count": 7,
   "id": "f9e049c4",
   "metadata": {},
   "outputs": [
    {
     "name": "stdout",
     "output_type": "stream",
     "text": [
      "Funny Got Data MIS Data Systems Business Analyst T-Shirt\n",
      "$16.99\n"
     ]
    }
   ],
   "source": [
    "print(title)\n",
    "print(price.replace(\" \", \"\"))"
   ]
  },
  {
   "cell_type": "markdown",
   "id": "81683a42",
   "metadata": {},
   "source": [
    "# Create a Timestamp for your output to track when data was collected"
   ]
  },
  {
   "cell_type": "code",
   "execution_count": 8,
   "id": "a7d34558",
   "metadata": {},
   "outputs": [
    {
     "name": "stdout",
     "output_type": "stream",
     "text": [
      "2024-06-12\n"
     ]
    }
   ],
   "source": [
    "today = datetime.date.today()\n",
    "\n",
    "print(today)"
   ]
  },
  {
   "cell_type": "markdown",
   "id": "d38b3199",
   "metadata": {},
   "source": [
    "# Create CSV and write headers and data into the file"
   ]
  },
  {
   "cell_type": "code",
   "execution_count": 9,
   "id": "79c12c6b",
   "metadata": {},
   "outputs": [],
   "source": [
    "header = ['Title', 'Price', 'Date']\n",
    "data = [title, price, today]\n",
    "\n",
    "\n",
    "with open('AmazonWebScraperDataset.csv', 'w', newline='', encoding='UTF8') as f:\n",
    "    writer = csv.writer(f)\n",
    "    writer.writerow(header)\n",
    "    writer.writerow(data)"
   ]
  },
  {
   "cell_type": "markdown",
   "id": "ac61df9e",
   "metadata": {},
   "source": [
    "# Loading The Clean Data"
   ]
  },
  {
   "cell_type": "code",
   "execution_count": 10,
   "id": "7147fbaa",
   "metadata": {},
   "outputs": [
    {
     "name": "stdout",
     "output_type": "stream",
     "text": [
      "                                               Title   Price        Date\n",
      "0  Funny Got Data MIS Data Systems Business Analy...  $16.99  2024-06-12\n"
     ]
    }
   ],
   "source": [
    "df = pd.read_csv('AmazonWebScraperDataset.csv')\n",
    "print(df)"
   ]
  },
  {
   "cell_type": "markdown",
   "id": "d7cf7151",
   "metadata": {},
   "source": [
    "#### Now we are appending every new data to the csv"
   ]
  },
  {
   "cell_type": "code",
   "execution_count": 11,
   "id": "c44a2739",
   "metadata": {},
   "outputs": [],
   "source": [
    "with open('AmazonWebScraperDataset.csv', 'a+', newline='', encoding='UTF8') as f:\n",
    "    writer = csv.writer(f)\n",
    "    writer.writerow(data)"
   ]
  },
  {
   "cell_type": "markdown",
   "id": "41e3ee89",
   "metadata": {},
   "source": [
    "# Automating The Whole Process"
   ]
  },
  {
   "cell_type": "markdown",
   "id": "3f7098e4",
   "metadata": {},
   "source": [
    "#### Combine all of the above code into one function"
   ]
  },
  {
   "cell_type": "code",
   "execution_count": 12,
   "id": "2cd92bc3",
   "metadata": {},
   "outputs": [],
   "source": [
    "def check_price():\n",
    "    URL = 'https://www.amazon.com/Funny-Data-Systems-Business-Analyst/dp/B07FNW9FGJ/ref=sr_1_3?dchild=1&keywords=data%2Banalyst%2Btshirt&qid=1626655184&sr=8-3&customId=B0752XJYNL&th=1'\n",
    "\n",
    "    headers = {\"User-Agent\": \"Mozilla/5.0 (Windows NT 10.0; Win64; x64) AppleWebKit/537.36 (KHTML, like Gecko) Chrome/78.0.3904.108 Safari/537.36\", \"Accept-Encoding\":\"gzip, deflate\", \"Accept\":\"text/html,application/xhtml+xml,application/xml;q=0.9,*/*;q=0.8\", \"DNT\":\"1\",\"Connection\":\"close\", \"Upgrade-Insecure-Requests\":\"1\"}\n",
    "\n",
    "    page = requests.get(URL, headers=headers)\n",
    "\n",
    "    soup1 = BeautifulSoup(page.content, \"html.parser\")\n",
    "\n",
    "    soup2 = BeautifulSoup(soup1.prettify(), \"html.parser\")\n",
    "\n",
    "    title = soup2.find(id='productTitle').get_text()\n",
    "\n",
    "    price = soup2.find(id='corePriceDisplay_desktop_feature_div').get_text()\n",
    "\n",
    "    price = price.strip()[:6]\n",
    "    title = title.strip()\n",
    "    import datetime\n",
    "\n",
    "    today = datetime.date.today()\n",
    "    \n",
    "    import csv \n",
    "\n",
    "    header = ['Title', 'Price', 'Date']\n",
    "    data = [title, price, today]\n",
    "\n",
    "    with open('AmazonWebScraperDataset.csv', 'a+', newline='', encoding='UTF8') as f:\n",
    "        writer = csv.writer(f)\n",
    "        writer.writerow(data)\n",
    " \n",
    "    "
   ]
  },
  {
   "cell_type": "markdown",
   "id": "b299fa34",
   "metadata": {},
   "source": [
    "# Runs check_price after a set time and inputs data into your CSV"
   ]
  },
  {
   "cell_type": "markdown",
   "id": "ec0bab1b",
   "metadata": {},
   "source": [
    "so now we can set a specific time scrap the site with the time module and pull out the price of the T-shirt at a given time"
   ]
  },
  {
   "cell_type": "markdown",
   "id": "5d4a67e5",
   "metadata": {},
   "source": [
    "# Final result and how to use this Webscraping and Automation"
   ]
  },
  {
   "cell_type": "code",
   "execution_count": 18,
   "id": "4c2050ed",
   "metadata": {},
   "outputs": [
    {
     "name": "stdout",
     "output_type": "stream",
     "text": [
      "                                                Title   Price        Date\n",
      "0   Funny Got Data MIS Data Systems Business Analy...  $16.99  2024-06-12\n",
      "1   Funny Got Data MIS Data Systems Business Analy...  $16.99  2024-06-12\n",
      "2   Funny Got Data MIS Data Systems Business Analy...  $16.99  2024-06-13\n",
      "3   Funny Got Data MIS Data Systems Business Analy...  $16.99  2024-06-13\n",
      "4   Funny Got Data MIS Data Systems Business Analy...  $16.99  2024-06-13\n",
      "5   Funny Got Data MIS Data Systems Business Analy...  $16.99  2024-06-13\n",
      "6   Funny Got Data MIS Data Systems Business Analy...  $16.99  2024-06-13\n",
      "7   Funny Got Data MIS Data Systems Business Analy...  $16.99  2024-06-13\n",
      "8   Funny Got Data MIS Data Systems Business Analy...  $16.99  2024-06-13\n",
      "9   Funny Got Data MIS Data Systems Business Analy...  $16.99  2024-06-13\n",
      "10  Funny Got Data MIS Data Systems Business Analy...  $16.99  2024-06-13\n",
      "11  Funny Got Data MIS Data Systems Business Analy...  $16.99  2024-06-13\n",
      "12  Funny Got Data MIS Data Systems Business Analy...  $16.99  2024-06-13\n",
      "13  Funny Got Data MIS Data Systems Business Analy...  $16.99  2024-06-13\n"
     ]
    }
   ],
   "source": [
    "while(True): #this is everything we did aboved in 3 line of code, the fully automated web scraping\n",
    "    check_price()\n",
    "    time.sleep(3) #so this is in seconds\n",
    "    break \n",
    "\n",
    "import pandas as pd\n",
    "\n",
    "df = pd.read_csv('AmazonWebScraperDataset.csv')\n",
    "\n",
    "print(df)"
   ]
  },
  {
   "cell_type": "markdown",
   "id": "a42ee343",
   "metadata": {},
   "source": [
    "If you want to try sending yourself an email when a price hits below a certain level you can try it\n",
    "out with this script"
   ]
  },
  {
   "cell_type": "code",
   "execution_count": null,
   "id": "b0bd6eba",
   "metadata": {},
   "outputs": [],
   "source": [
    "def send_mail():\n",
    "    server = smtplib.SMTP_SSL('smtp.gmail.com',465)\n",
    "    server.ehlo()\n",
    "    #server.starttls()\n",
    "    server.ehlo()\n",
    "    server.login('typeyouremail@gmail.com','xxxxxxxxxxxxxx')\n",
    "    \n",
    "    subject = \"The Shirt you want is below $15! Now is your chance to buy!\"\n",
    "    body = \"Alex, This is the moment we have been waiting for. Now is your chance to pick up the shirt of your dreams. Don't mess it up! Link here: https://www.amazon.com/Funny-Data-Systems-Business-Analyst/dp/B07FNW9FGJ/ref=sr_1_3?dchild=1&keywords=data+analyst+tshirt&qid=1626655184&sr=8-3\"\n",
    "   \n",
    "    msg = f\"Subject: {subject}\\n\\n{body}\"\n",
    "    \n",
    "    server.sendmail(\n",
    "        'typeyouremail@gmail.com',\n",
    "        msg\n",
    "     \n",
    "    )"
   ]
  }
 ],
 "metadata": {
  "kernelspec": {
   "display_name": "Python 3 (ipykernel)",
   "language": "python",
   "name": "python3"
  },
  "language_info": {
   "codemirror_mode": {
    "name": "ipython",
    "version": 3
   },
   "file_extension": ".py",
   "mimetype": "text/x-python",
   "name": "python",
   "nbconvert_exporter": "python",
   "pygments_lexer": "ipython3",
   "version": "3.11.5"
  }
 },
 "nbformat": 4,
 "nbformat_minor": 5
}
